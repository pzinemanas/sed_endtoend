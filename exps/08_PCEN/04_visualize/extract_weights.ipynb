{
 "cells": [
  {
   "cell_type": "code",
   "execution_count": 1,
   "metadata": {},
   "outputs": [
    {
     "name": "stderr",
     "output_type": "stream",
     "text": [
      "Using TensorFlow backend.\n"
     ]
    }
   ],
   "source": [
    "%load_ext autoreload\n",
    "%autoreload 2\n",
    "\n",
    "import numpy as np\n",
    "import os\n",
    "import glob\n",
    "import sys\n",
    "\n",
    "sys.path.insert(0,'../../..')\n",
    "from sed_endtoend.pcen.model import SMel_PCEN, concatenate_stft\n",
    "from sed_endtoend.cnn.model import build_custom_cnn\n",
    "\n",
    "from params import *\n",
    "\n",
    "os.environ[\"CUDA_VISIBLE_DEVICES\"]=\"1\"\n",
    "\n",
    "# files parameters\n",
    "Nfiles = None\n",
    "resume = False\n",
    "load_subset = Nfiles"
   ]
  },
  {
   "cell_type": "code",
   "execution_count": 13,
   "metadata": {},
   "outputs": [
    {
     "name": "stdout",
     "output_type": "stream",
     "text": [
      "__________________________________________________________________________________________________\n",
      "Layer (type)                    Output Shape         Param #     Connected to                     \n",
      "==================================================================================================\n",
      "input_34 (InputLayer)           (None, 44, 513)      0                                            \n",
      "__________________________________________________________________________________________________\n",
      "dot_12 (DOT)                    (None, 44, 128)      65664       input_34[0][0]                   \n",
      "__________________________________________________________________________________________________\n",
      "rnn_12 (RNN)                    (None, 44, 128)      128         dot_12[0][0]                     \n",
      "__________________________________________________________________________________________________\n",
      "pcen_12 (PCEN)                  (None, 44, 128)      384         dot_12[0][0]                     \n",
      "                                                                 rnn_12[0][0]                     \n",
      "==================================================================================================\n",
      "Total params: 66,176\n",
      "Trainable params: 66,176\n",
      "Non-trainable params: 0\n",
      "__________________________________________________________________________________________________\n",
      "(513, 128)\n",
      "(128,)\n",
      "(128, 1)\n",
      "(128, 1)\n",
      "(128, 1)\n"
     ]
    }
   ],
   "source": [
    "sequence_frames = 44\n",
    "\n",
    "model_mel = SMel_PCEN(mel_bands,sequence_frames,audio_win,audio_hop)    \n",
    "model_cnn = build_custom_cnn(n_freq_cnn=mel_bands, n_frames_cnn=sequence_frames,large_cnn=large_cnn)\n",
    "\n",
    "model = concatenate_stft(sequence_frames,513,model_cnn,model_mel)\n",
    "\n",
    "model.load_weights(\"../03_train_SMel_CNN/weights_best.hdf5\")\n",
    "\n",
    "model_mel.summary()\n",
    "\n",
    "filters = model_mel.layers[1].get_weights()[0]\n",
    "print(filters.shape)\n",
    "\n",
    "b = model_mel.layers[2].get_weights()[0]\n",
    "print(b.shape)\n",
    "\n",
    "[alpha, delta, r] = model_mel.layers[3].get_weights()\n",
    "print(alpha.shape)\n",
    "print(delta.shape)\n",
    "print(r.shape)\n",
    "\n",
    "np.save('filters.npy',filters)\n",
    "np.save('b.npy',b)\n",
    "np.save('alpha.npy',alpha)\n",
    "np.save('delta.npy', delta)\n",
    "np.save('r.npy',r)"
   ]
  }
 ],
 "metadata": {
  "kernelspec": {
   "display_name": "Python 3",
   "language": "python",
   "name": "python3"
  },
  "language_info": {
   "codemirror_mode": {
    "name": "ipython",
    "version": 3
   },
   "file_extension": ".py",
   "mimetype": "text/x-python",
   "name": "python",
   "nbconvert_exporter": "python",
   "pygments_lexer": "ipython3",
   "version": "3.7.3"
  }
 },
 "nbformat": 4,
 "nbformat_minor": 2
}
