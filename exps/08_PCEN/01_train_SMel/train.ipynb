{
 "cells": [
  {
   "cell_type": "markdown",
   "metadata": {},
   "source": [
    "# Train SMel model with PCEN data"
   ]
  },
  {
   "cell_type": "code",
   "execution_count": 1,
   "metadata": {},
   "outputs": [
    {
     "name": "stderr",
     "output_type": "stream",
     "text": [
      "Using TensorFlow backend.\n"
     ]
    }
   ],
   "source": [
    "%load_ext autoreload\n",
    "%autoreload 2\n",
    "\n",
    "from keras import optimizers\n",
    "from keras.callbacks import CSVLogger\n",
    "import numpy as np\n",
    "import os\n",
    "import glob\n",
    "import sys\n",
    "import librosa\n",
    "\n",
    "sys.path.insert(0,'../../..')\n",
    "from sed_endtoend.pcen.model import SMel_PCEN\n",
    "from sed_endtoend.data_generator import DataGenerator, Scaler\n",
    "from sed_endtoend.gen_mel_filters import mel_filters\n",
    "\n",
    "from params import *\n",
    "\n",
    "os.environ[\"CUDA_VISIBLE_DEVICES\"]=\"1\"\n",
    "\n",
    "# files parameters\n",
    "Nfiles = None\n",
    "resume = False\n",
    "load_subset = Nfiles"
   ]
  },
  {
   "cell_type": "code",
   "execution_count": 2,
   "metadata": {},
   "outputs": [
    {
     "name": "stdout",
     "output_type": "stream",
     "text": [
      "Founding scaler\n",
      "Making training generator\n",
      "Making validation generator\n",
      "Getting data\n",
      "0.0 %\n",
      "10.0 %\n",
      "20.0 %\n",
      "30.0 %\n",
      "40.0 %\n",
      "50.0 %\n",
      "60.0 %\n",
      "70.0 %\n",
      "80.0 %\n",
      "90.0 %\n",
      "0.0 %\n",
      "10.0 %\n",
      "20.0 %\n",
      "30.0 %\n",
      "40.0 %\n",
      "50.0 %\n",
      "60.0 %\n",
      "70.0 %\n",
      "80.0 %\n",
      "90.0 %\n"
     ]
    }
   ],
   "source": [
    "params = {'sequence_time': sequence_time, 'sequence_hop_time':sequence_hop_time,\n",
    "          'label_list':label_list,'audio_hop':audio_hop, 'audio_win':audio_win,\n",
    "          'n_fft':n_fft,'sr':sr,'mel_bands':mel_bands,'normalize':normalize_data, \n",
    "          'frames':frames,'get_annotations':get_annotations, 'dataset': dataset}\n",
    "\n",
    "sequence_frames = int(np.ceil(sequence_time*sr/audio_hop))\n",
    "\n",
    "# Datasets\n",
    "labels = {}# Labels\n",
    "\n",
    "train_files = sorted(glob.glob(os.path.join(audio_folder,'train', '*.wav')))\n",
    "val_files = sorted(glob.glob(os.path.join(audio_folder,'validate', '*.wav')))\n",
    "\n",
    "if load_subset is not None:\n",
    "    train_files = train_files[:load_subset]\n",
    "    val_files = val_files[:load_subset]\n",
    "\n",
    "train_labels = {}\n",
    "train_mel = {}\n",
    "val_labels = {}\n",
    "val_mel = {}\n",
    "\n",
    "print('Founding scaler')\n",
    "for n,id in enumerate(train_files):\n",
    "    labels[id] = os.path.join(label_folder, 'train',os.path.basename(id).replace('.wav','.txt'))\n",
    "for id in val_files:\n",
    "    labels[id] = os.path.join(label_folder, 'validate',os.path.basename(id).replace('.wav','.txt'))\n",
    "\n",
    "params['normalize_energy'] = False\n",
    "params['convert_to_dB'] = False    \n",
    "    \n",
    "# Generators\n",
    "print('Making training generator')\n",
    "training_generator = DataGenerator(train_files, labels, **params)\n",
    "\n",
    "params['sequence_hop_time'] = sequence_time # To calculate F1_1s\n",
    "\n",
    "print('Making validation generator')\n",
    "validation_generator = DataGenerator(val_files, labels, **params)\n",
    "\n",
    "print('Getting data')\n",
    "\n",
    "_,S_val,mel_val,_ = validation_generator.return_all()\n",
    "_,S_train,mel_train,_ = training_generator.return_all()\n",
    "\n",
    "\n",
    "for j in range(mel_train.shape[0]):\n",
    "    mel_train[j] = librosa.pcen(mel_train[j],sr=sr, hop_length=audio_hop, \n",
    "                                gain=alpha2, bias=delta, power=r, time_constant=time_constant) \n",
    "\n",
    "for j in range(mel_val.shape[0]): \n",
    "    mel_val[j] = librosa.pcen(mel_val[j],sr=sr, hop_length=audio_hop, \n",
    "                                gain=alpha2, bias=delta, power=r, time_constant=time_constant) "
   ]
  },
  {
   "cell_type": "code",
   "execution_count": 3,
   "metadata": {},
   "outputs": [
    {
     "name": "stderr",
     "output_type": "stream",
     "text": [
      "WARNING: Logging before flag parsing goes to stderr.\n",
      "W1004 08:44:37.708985 139916097947392 deprecation_wrapper.py:119] From /home/pzinemanas/anaconda3/lib/python3.7/site-packages/keras/backend/tensorflow_backend.py:74: The name tf.get_default_graph is deprecated. Please use tf.compat.v1.get_default_graph instead.\n",
      "\n"
     ]
    },
    {
     "name": "stdout",
     "output_type": "stream",
     "text": [
      "\n",
      "Building model...\n"
     ]
    },
    {
     "name": "stderr",
     "output_type": "stream",
     "text": [
      "W1004 08:44:37.932967 139916097947392 deprecation_wrapper.py:119] From /home/pzinemanas/anaconda3/lib/python3.7/site-packages/keras/backend/tensorflow_backend.py:517: The name tf.placeholder is deprecated. Please use tf.compat.v1.placeholder instead.\n",
      "\n",
      "W1004 08:44:37.977474 139916097947392 deprecation_wrapper.py:119] From /home/pzinemanas/anaconda3/lib/python3.7/site-packages/keras/backend/tensorflow_backend.py:4138: The name tf.random_uniform is deprecated. Please use tf.random.uniform instead.\n",
      "\n",
      "W1004 08:44:38.180617 139916097947392 deprecation_wrapper.py:119] From /home/pzinemanas/anaconda3/lib/python3.7/site-packages/keras/backend/tensorflow_backend.py:174: The name tf.get_default_session is deprecated. Please use tf.compat.v1.get_default_session instead.\n",
      "\n",
      "W1004 08:44:38.181417 139916097947392 deprecation_wrapper.py:119] From /home/pzinemanas/anaconda3/lib/python3.7/site-packages/keras/backend/tensorflow_backend.py:181: The name tf.ConfigProto is deprecated. Please use tf.compat.v1.ConfigProto instead.\n",
      "\n"
     ]
    },
    {
     "name": "stdout",
     "output_type": "stream",
     "text": [
      "__________________________________________________________________________________________________\n",
      "Layer (type)                    Output Shape         Param #     Connected to                     \n",
      "==================================================================================================\n",
      "input_1 (InputLayer)            (None, 44, 513)      0                                            \n",
      "__________________________________________________________________________________________________\n",
      "dot_1 (DOT)                     (None, 44, 128)      65664       input_1[0][0]                    \n",
      "__________________________________________________________________________________________________\n",
      "rnn_1 (RNN)                     (None, 44, 128)      128         dot_1[0][0]                      \n",
      "__________________________________________________________________________________________________\n",
      "pcen_1 (PCEN)                   (None, 44, 128)      384         dot_1[0][0]                      \n",
      "                                                                 rnn_1[0][0]                      \n",
      "==================================================================================================\n",
      "Total params: 66,176\n",
      "Trainable params: 66,176\n",
      "Non-trainable params: 0\n",
      "__________________________________________________________________________________________________\n"
     ]
    },
    {
     "name": "stderr",
     "output_type": "stream",
     "text": [
      "W1004 08:44:47.370385 139916097947392 deprecation_wrapper.py:119] From /home/pzinemanas/anaconda3/lib/python3.7/site-packages/keras/optimizers.py:790: The name tf.train.Optimizer is deprecated. Please use tf.compat.v1.train.Optimizer instead.\n",
      "\n",
      "W1004 08:44:47.479465 139916097947392 deprecation.py:323] From /home/pzinemanas/anaconda3/lib/python3.7/site-packages/tensorflow/python/ops/math_grad.py:1205: add_dispatch_support.<locals>.wrapper (from tensorflow.python.ops.array_ops) is deprecated and will be removed in a future version.\n",
      "Instructions for updating:\n",
      "Use tf.where in 2.0, which has the same broadcast rule as np.where\n"
     ]
    },
    {
     "name": "stdout",
     "output_type": "stream",
     "text": [
      "\n",
      "Fitting model...\n",
      "Train on 60000 samples, validate on 20000 samples\n",
      "Epoch 1/11\n",
      "60000/60000 [==============================] - 18s 301us/step - loss: 3.1555e-05 - val_loss: 3.0816e-05\n",
      "Epoch 2/11\n",
      "60000/60000 [==============================] - 16s 272us/step - loss: 2.6706e-05 - val_loss: 2.8363e-05\n",
      "Epoch 3/11\n",
      "60000/60000 [==============================] - 16s 272us/step - loss: 2.3189e-05 - val_loss: 1.8878e-05\n",
      "Epoch 4/11\n",
      "60000/60000 [==============================] - 16s 270us/step - loss: 1.9006e-05 - val_loss: 1.9979e-05\n",
      "Epoch 5/11\n",
      "60000/60000 [==============================] - 16s 273us/step - loss: 1.6451e-05 - val_loss: 1.7069e-05\n",
      "Epoch 6/11\n",
      "60000/60000 [==============================] - 16s 273us/step - loss: 1.6118e-05 - val_loss: 1.4552e-05\n",
      "Epoch 7/11\n",
      "60000/60000 [==============================] - 16s 273us/step - loss: 1.6003e-05 - val_loss: 1.8552e-05\n",
      "Epoch 8/11\n",
      "60000/60000 [==============================] - 16s 272us/step - loss: 1.5335e-05 - val_loss: 2.0865e-05\n",
      "Epoch 9/11\n",
      "60000/60000 [==============================] - 16s 272us/step - loss: 1.5980e-05 - val_loss: 1.3827e-05\n",
      "Epoch 10/11\n",
      "60000/60000 [==============================] - 16s 273us/step - loss: 1.4709e-05 - val_loss: 1.7543e-05\n",
      "Epoch 11/11\n",
      "60000/60000 [==============================] - 16s 272us/step - loss: 1.4748e-05 - val_loss: 1.4349e-05\n"
     ]
    }
   ],
   "source": [
    "print('\\nBuilding model...')\n",
    "\n",
    "sequence_samples = int(sequence_time*sr)\n",
    "\n",
    "model = SMel_PCEN(mel_bands,sequence_frames,audio_win,audio_hop,scaler=None)    \n",
    "\n",
    "model.summary()\n",
    "\n",
    "# Init filters\n",
    "W = librosa.filters.mel(sr,n_fft,mel_bands,htk=True);\n",
    "W = W**2 #para ser consistentes\n",
    "W = [W.T]#, np.zeros(filters.shape[0])]\n",
    "model.layers[1].set_weights(W)\n",
    "\n",
    "# Init PCEN layer\n",
    "T = time_constant * sr / float(audio_hop)\n",
    "b = (np.sqrt(1 + 4* T**2) - 1) / (2 * T**2)\n",
    "\n",
    "r = np.ones((mel_bands,1))*r\n",
    "delta = np.ones((mel_bands,1))*delta\n",
    "alpha2 = np.ones((mel_bands,1))*alpha2\n",
    "model.layers[-1].set_weights([alpha2,delta,r])\n",
    "\n",
    "b = np.ones((mel_bands,))*b\n",
    "model.layers[2].set_weights([b])\n",
    "\n",
    "\n",
    "opt = optimizers.Adam(lr=learning_rate)\n",
    "\n",
    "if resume:\n",
    "    print('Loading best weights and resuming...')\n",
    "    weights_best_file = os.path.join(expfolder, 'weights_best.hdf5')\n",
    "    model.load_weights(weights_best_file)\n",
    "\n",
    "# Fit model\n",
    "print('\\nFitting model...')\n",
    "\n",
    "if resume:\n",
    "    f1s_best = resume_f1_best\n",
    "\n",
    "csv_logger = CSVLogger(os.path.join(expfolder, 'training.log'))\n",
    "\n",
    "model.compile(loss='mean_squared_error',optimizer=opt)\n",
    "\n",
    "history = model.fit(x=S_train, y=mel_train, batch_size=2*batch_size, #Borrar el 10!\n",
    "                            epochs=epochs, verbose=fit_verbose,\n",
    "                            validation_split=0.0,\n",
    "                            shuffle=True,\n",
    "                            callbacks=[csv_logger],\n",
    "                            validation_data=(S_val,mel_val))\n",
    "\n",
    "model.save_weights(os.path.join(expfolder, 'weights_best.hdf5'))\n"
   ]
  }
 ],
 "metadata": {
  "kernelspec": {
   "display_name": "Python 3",
   "language": "python",
   "name": "python3"
  },
  "language_info": {
   "codemirror_mode": {
    "name": "ipython",
    "version": 3
   },
   "file_extension": ".py",
   "mimetype": "text/x-python",
   "name": "python",
   "nbconvert_exporter": "python",
   "pygments_lexer": "ipython3",
   "version": "3.7.3"
  }
 },
 "nbformat": 4,
 "nbformat_minor": 2
}
