{
 "cells": [
  {
   "cell_type": "markdown",
   "metadata": {},
   "source": [
    "# Train MST+CNN model"
   ]
  },
  {
   "cell_type": "code",
   "execution_count": 1,
   "metadata": {},
   "outputs": [
    {
     "name": "stderr",
     "output_type": "stream",
     "text": [
      "Using TensorFlow backend.\n"
     ]
    }
   ],
   "source": [
    "import numpy as np\n",
    "import os\n",
    "import librosa\n",
    "import glob\n",
    "import sys\n",
    "\n",
    "sys.path.insert(0,'../..')\n",
    "from sed_endtoend.cnn.model import build_custom_cnn\n",
    "from sed_endtoend.mst.model import MST\n",
    "from sed_endtoend.concatenate_models import concatenate\n",
    "from sed_endtoend.data_generator import DataGenerator, Scaler\n",
    "\n",
    "os.environ[\"CUDA_VISIBLE_DEVICES\"]=\"0\"\n",
    "\n",
    "# files parameters\n",
    "Nfiles = None\n",
    "resume = False\n",
    "load_subset = Nfiles\n",
    "\n",
    "# load parameters\n",
    "from params import *"
   ]
  },
  {
   "cell_type": "code",
   "execution_count": 2,
   "metadata": {},
   "outputs": [
    {
     "name": "stdout",
     "output_type": "stream",
     "text": [
      "Making test generator\n",
      "Making validation generator\n",
      "Getting validation data\n",
      "0.0 %\n",
      "10.0 %\n",
      "20.0 %\n",
      "30.0 %\n",
      "40.0 %\n",
      "50.0 %\n",
      "60.0 %\n",
      "70.0 %\n",
      "80.0 %\n",
      "90.0 %\n",
      "Getting test data\n",
      "0.0 %\n",
      "10.0 %\n",
      "20.0 %\n",
      "30.0 %\n",
      "40.0 %\n",
      "50.0 %\n",
      "60.0 %\n",
      "70.0 %\n",
      "80.0 %\n",
      "90.0 %\n"
     ]
    }
   ],
   "source": [
    "params = {'sequence_time': sequence_time, 'sequence_hop_time':sequence_hop_time,\n",
    "          'label_list':label_list,'audio_hop':audio_hop, 'audio_win':audio_win,\n",
    "          'n_fft':n_fft,'sr':sr,'mel_bands':mel_bands,'normalize':normalize_data, \n",
    "          'frames':frames,'get_annotations':get_annotations, 'dataset': dataset}\n",
    "\n",
    "sequence_frames = int(np.ceil(sequence_time*sr/audio_hop))\n",
    "\n",
    "# Datasets\n",
    "labels = {}# Labels\n",
    "\n",
    "test_files = sorted(glob.glob(os.path.join(audio_folder,'test', '*.wav')))\n",
    "val_files = sorted(glob.glob(os.path.join(audio_folder,'validate', '*.wav')))\n",
    "\n",
    "if load_subset is not None:\n",
    "    test_files = test_files[:load_subset]\n",
    "    val_files = val_files[:load_subset]\n",
    "\n",
    "test_labels = {}\n",
    "test_mel = {}\n",
    "val_labels = {}\n",
    "val_mel = {}\n",
    "\n",
    "for n,id in enumerate(test_files):\n",
    "    labels[id] = os.path.join(label_folder, 'test',os.path.basename(id).replace('.wav','.txt'))\n",
    "for id in val_files:\n",
    "    labels[id] = os.path.join(label_folder, 'validate',os.path.basename(id).replace('.wav','.txt'))\n",
    "\n",
    "params['sequence_hop_time'] = sequence_time # To calculate F1_1s    \n",
    "    \n",
    "# Generators\n",
    "print('Making test generator')\n",
    "test_generator = DataGenerator(test_files, labels, **params)\n",
    "\n",
    "print('Making validation generator')\n",
    "validation_generator = DataGenerator(val_files, labels, **params)\n",
    "\n",
    "print('Getting validation data')\n",
    "\n",
    "x_val,_,mel_val,y_val = validation_generator.return_all()\n",
    "\n",
    "print('Getting test data')\n",
    "\n",
    "x_test,_,mel_test,y_test = test_generator.return_all()"
   ]
  },
  {
   "cell_type": "code",
   "execution_count": 10,
   "metadata": {},
   "outputs": [
    {
     "name": "stdout",
     "output_type": "stream",
     "text": [
      "\n",
      "Building model...\n",
      "_________________________________________________________________\n",
      "Layer (type)                 Output Shape              Param #   \n",
      "=================================================================\n",
      "input_9 (InputLayer)         (None, 22050, 1)          0         \n",
      "_________________________________________________________________\n",
      "model_7 (Model)              (None, 44, 128)           1020288   \n",
      "_________________________________________________________________\n",
      "model_8 (Model)              (None, 10)                2481162   \n",
      "=================================================================\n",
      "Total params: 3,501,450\n",
      "Trainable params: 3,498,634\n",
      "Non-trainable params: 2,816\n",
      "_________________________________________________________________\n",
      "[Done]\n"
     ]
    }
   ],
   "source": [
    "sequence_frames = mel_val.shape[1]\n",
    "sequence_samples = int(sequence_time*sr)\n",
    "\n",
    "# Build model\n",
    "print('\\nBuilding model...')\n",
    "\n",
    "model_mel = MST(mel_bands,sequence_samples,audio_win,audio_hop)  \n",
    "model_cnn = build_custom_cnn(n_freq_cnn=mel_bands, n_frames_cnn=sequence_frames,large_cnn=large_cnn)\n",
    "\n",
    "model = concatenate(sequence_frames,audio_win,model_cnn,model_mel,sequence_samples=sequence_samples,frames=frames)\n",
    "\n",
    "weights_best_file = os.path.join(expfolder, 'weights_best.hdf5')\n",
    "model.load_weights(weights_best_file)\n",
    "\n",
    "model.summary()\n",
    "\n",
    "y_test_predicted = model.predict(x_test)[0]\n",
    "y_val_predicted = model.predict(x_val)[0]\n",
    "\n",
    "np.save(os.path.join(expfolder, 'y_val_predicted.npy'),y_val_predicted)\n",
    "np.save(os.path.join(expfolder, 'y_val.npy'),y_val)\n",
    "\n",
    "np.save(os.path.join(expfolder, 'y_test_predict.npy'),y_test_predicted)\n",
    "np.save(os.path.join(expfolder, 'y_test.npy'),y_test)\n",
    "\n",
    "print(\"[Done]\")"
   ]
  }
 ],
 "metadata": {
  "kernelspec": {
   "display_name": "Python 3",
   "language": "python",
   "name": "python3"
  },
  "language_info": {
   "codemirror_mode": {
    "name": "ipython",
    "version": 3
   },
   "file_extension": ".py",
   "mimetype": "text/x-python",
   "name": "python",
   "nbconvert_exporter": "python",
   "pygments_lexer": "ipython3",
   "version": "3.7.3"
  }
 },
 "nbformat": 4,
 "nbformat_minor": 2
}
